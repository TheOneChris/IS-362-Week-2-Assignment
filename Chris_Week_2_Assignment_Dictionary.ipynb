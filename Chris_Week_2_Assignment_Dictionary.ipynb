{
 "cells": [
  {
   "cell_type": "code",
   "execution_count": 107,
   "id": "887e3cbb",
   "metadata": {},
   "outputs": [
    {
     "data": {
      "text/plain": [
       "{1: 'Mouse',\n",
       " 2: 'Keyboard',\n",
       " 3: 'PC Tower',\n",
       " 4: 'Computer Monitor',\n",
       " 5: 'Headset',\n",
       " 6: 'Webcam'}"
      ]
     },
     "execution_count": 107,
     "metadata": {},
     "output_type": "execute_result"
    }
   ],
   "source": [
    "#A simple dictionary containing the requirements for a Desktop PC workstation\n",
    "dict_PC = {1 : 'Mouse', 2 : 'Keyboard', 3 : 'PC Tower', 4 : 'Computer Monitor', 5 :  'Headset', 6 : 'Webcam'}\n",
    "dict_PC"
   ]
  },
  {
   "cell_type": "code",
   "execution_count": 108,
   "id": "47ef8a43",
   "metadata": {},
   "outputs": [
    {
     "data": {
      "text/plain": [
       "6"
      ]
     },
     "execution_count": 108,
     "metadata": {},
     "output_type": "execute_result"
    }
   ],
   "source": [
    "##This provides the length of the dictionary, which is the number of keys / value combinations\n",
    "len(dict_PC)"
   ]
  },
  {
   "cell_type": "code",
   "execution_count": 109,
   "id": "5984d6ad",
   "metadata": {},
   "outputs": [
    {
     "data": {
      "text/plain": [
       "dict_keys([1, 2, 3, 4, 5, 6])"
      ]
     },
     "execution_count": 109,
     "metadata": {},
     "output_type": "execute_result"
    }
   ],
   "source": [
    "#This lists all the callable keys in the dictionary\n",
    "dict_PC.keys()"
   ]
  },
  {
   "cell_type": "code",
   "execution_count": 110,
   "id": "c2ea502b",
   "metadata": {},
   "outputs": [
    {
     "data": {
      "text/plain": [
       "dict_values(['Mouse', 'Keyboard', 'PC Tower', 'Computer Monitor', 'Headset', 'Webcam'])"
      ]
     },
     "execution_count": 110,
     "metadata": {},
     "output_type": "execute_result"
    }
   ],
   "source": [
    "#This lists all the callable values in the dictionary\n",
    "dict_PC.values()"
   ]
  },
  {
   "cell_type": "code",
   "execution_count": 111,
   "id": "e9dd9dfa",
   "metadata": {},
   "outputs": [
    {
     "name": "stdout",
     "output_type": "stream",
     "text": [
      "dict_items([(1, 'Mouse'), (2, 'Keyboard'), (3, 'PC Tower'), (4, 'Computer Monitor'), (5, 'Headset'), (6, 'Webcam')])\n"
     ]
    }
   ],
   "source": [
    "#This is used to list all the items or tuple pairs of the dictionary\n",
    "print(dict_PC.items())"
   ]
  },
  {
   "cell_type": "code",
   "execution_count": 112,
   "id": "372e2511",
   "metadata": {},
   "outputs": [
    {
     "name": "stdout",
     "output_type": "stream",
     "text": [
      "Computer Monitor\n"
     ]
    }
   ],
   "source": [
    "#This is used to get a sepcfic value\n",
    "print(dict_PC[4])"
   ]
  },
  {
   "cell_type": "code",
   "execution_count": 113,
   "id": "3bdfe52f",
   "metadata": {},
   "outputs": [
    {
     "name": "stdout",
     "output_type": "stream",
     "text": [
      "Keyboard\n"
     ]
    }
   ],
   "source": [
    "#This is an alternative way to get a specfic value\n",
    "print(dict_PC.get(2))"
   ]
  },
  {
   "cell_type": "code",
   "execution_count": 114,
   "id": "2d988686",
   "metadata": {},
   "outputs": [
    {
     "name": "stdout",
     "output_type": "stream",
     "text": [
      "{1: 'Mouse', 2: 'Keyboard', 3: 'PC Tower', 4: 'Computer Monitor', 5: 'Headset'}\n"
     ]
    }
   ],
   "source": [
    "#This deletes a specific key from the dictionary, in this case Webcam\n",
    "del dict_PC[6]\n",
    "print(dict_PC)"
   ]
  },
  {
   "cell_type": "code",
   "execution_count": 115,
   "id": "d6ee6b12",
   "metadata": {},
   "outputs": [
    {
     "data": {
      "text/plain": [
       "5"
      ]
     },
     "execution_count": 115,
     "metadata": {},
     "output_type": "execute_result"
    }
   ],
   "source": [
    "#The length of the dictionary is now 5 instead of the starting length 6\n",
    "len(dict_PC)"
   ]
  },
  {
   "cell_type": "code",
   "execution_count": 116,
   "id": "9ea3eaca",
   "metadata": {},
   "outputs": [
    {
     "name": "stdout",
     "output_type": "stream",
     "text": [
      "{1: 'Mouse', 3: 'PC Tower', 4: 'Computer Monitor', 5: 'Headset'}\n"
     ]
    }
   ],
   "source": [
    "#The pop method is used as an alternative way of removing a key/value pair\n",
    "dict_PC.pop(2)\n",
    "print(dict_PC)"
   ]
  },
  {
   "cell_type": "code",
   "execution_count": 136,
   "id": "309b1ace",
   "metadata": {},
   "outputs": [
    {
     "name": "stdout",
     "output_type": "stream",
     "text": [
      "The original list is : {1: 'Mouse', 3: 'PC Tower', 4: 'Computer Monitor', 5: 'Headset'}\n",
      "Random range initialized dictionary : {1: 87, 3: 79, 4: 38, 5: 69}\n"
     ]
    }
   ],
   "source": [
    "from random import randint\n",
    " \n",
    "# This displays the orginal dictiory containing the PC parts\n",
    "print(\"The original list is : \" + str(dict_PC))\n",
    " \n",
    "# initializing range for random values\n",
    "p, c = 0, 100 \n",
    " \n",
    "# Replaces the PC parts with randomly generated numbers between the given range\n",
    "res = {value : randint(p, c) for value in dict_PC}\n",
    " \n",
    "# prints the new dict_PC not containing PC parts anymore\n",
    "print(\"Random range initialized dictionary : \" + str(res))"
   ]
  },
  {
   "cell_type": "code",
   "execution_count": null,
   "id": "93d4b9e9",
   "metadata": {},
   "outputs": [],
   "source": []
  }
 ],
 "metadata": {
  "kernelspec": {
   "display_name": "Python 3",
   "language": "python",
   "name": "python3"
  },
  "language_info": {
   "codemirror_mode": {
    "name": "ipython",
    "version": 3
   },
   "file_extension": ".py",
   "mimetype": "text/x-python",
   "name": "python",
   "nbconvert_exporter": "python",
   "pygments_lexer": "ipython3",
   "version": "3.8.8"
  }
 },
 "nbformat": 4,
 "nbformat_minor": 5
}
